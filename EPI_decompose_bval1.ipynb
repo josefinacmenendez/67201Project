{
 "cells": [
  {
   "cell_type": "code",
   "execution_count": 1,
   "id": "d2a7c198",
   "metadata": {},
   "outputs": [],
   "source": [
    "using DataFrames, CSV\n",
    "using JLD\n",
    "using JuMP, Gurobi\n",
    "using LinearAlgebra, Random, Printf, StatsBase, CategoricalArrays\n",
    "using Plots, StatsPlots\n",
    "using Distributions"
   ]
  },
  {
   "cell_type": "code",
   "execution_count": 2,
   "id": "a8ba549a",
   "metadata": {},
   "outputs": [
    {
     "name": "stdout",
     "output_type": "stream",
     "text": [
      "Set parameter Username\n",
      "Academic license - for non-commercial use only - expires 2023-09-04\n"
     ]
    }
   ],
   "source": [
    "const GRB_ENV = Gurobi.Env();"
   ]
  },
  {
   "cell_type": "code",
   "execution_count": 3,
   "id": "773a5a99",
   "metadata": {},
   "outputs": [],
   "source": [
    "G_max = 74.0 #max gradient, prevent nerve stimulation by limiting max gradient and slew rate. mT/m\n",
    "SR_max = 50.0 #max slew rate mT/m/ms\n",
    "\n",
    "dt = 0.5 #ms\n",
    "Teps = 26.4 #time to echo ms\n",
    "T90 = 5.3 #90 degree RF time ms\n",
    "T180 = 4.3 #half of 180 degree RF time ms\n",
    "lambda_null = 60 #ms\n",
    "epsilion = 1e-4\n",
    "GAMMA = (42.58*10^3) * 2 * pi;\n",
    "\n",
    "\n",
    "TEmin = T180 + 2 * Teps\n",
    "TEmax = 97.0\n",
    "bval = 500.0;"
   ]
  },
  {
   "cell_type": "code",
   "execution_count": 4,
   "id": "c11beb7b",
   "metadata": {},
   "outputs": [],
   "source": [
    "Teps = trunc(Int,Teps/dt+0.5)\n",
    "T90 = trunc(Int, T90/dt + 0.5)\n",
    "T180 = trunc(Int, T180/dt/2 + 0.5)\n",
    "TEmin = trunc(Int, TEmin/dt + 0.5)\n",
    "TEmax = trunc(Int, TEmax/dt + 0.5)\n",
    "lambda_null = lambda_null/dt;"
   ]
  },
  {
   "cell_type": "code",
   "execution_count": 5,
   "id": "a10004f7",
   "metadata": {},
   "outputs": [
    {
     "name": "stdout",
     "output_type": "stream",
     "text": [
      "Gurobi Optimizer version 9.5.2 build v9.5.2rc0 (mac64[arm])\n",
      "Thread count: 10 physical cores, 10 logical processors, using up to 10 threads\n",
      "Optimize a model with 1696 rows, 1744 columns and 42234 nonzeros\n",
      "Model fingerprint: 0x08996cd0\n",
      "Variable types: 1356 continuous, 388 integer (388 binary)\n",
      "Coefficient statistics:\n",
      "  Matrix range     [5e-07, 2e+02]\n",
      "  Objective range  [1e+00, 1e+00]\n",
      "  Bounds range     [2e+01, 2e+01]\n",
      "  RHS range        [1e+01, 7e+01]\n",
      "Found heuristic solution: objective -0.0000000\n",
      "Presolve removed 648 rows and 584 columns\n",
      "Presolve time: 0.01s\n",
      "Presolved: 1048 rows, 1160 columns, 4319 nonzeros\n",
      "Variable types: 855 continuous, 305 integer (305 binary)\n",
      "\n",
      "Root relaxation: objective 5.253570e-01, 570 iterations, 0.00 seconds (0.00 work units)\n",
      "\n",
      "    Nodes    |    Current Node    |     Objective Bounds      |     Work\n",
      " Expl Unexpl |  Obj  Depth IntInf | Incumbent    BestBd   Gap | It/Node Time\n",
      "\n",
      "     0     0    0.52536    0  179   -0.00000    0.52536      -     -    0s\n",
      "H    0     0                       0.0248875    0.52536  2011%     -    0s\n",
      "     0     0    0.26606    0  132    0.02489    0.26606   969%     -    0s\n",
      "H    0     0                       0.0252303    0.26606   955%     -    0s\n",
      "     0     0    0.21292    0  106    0.02523    0.21292   744%     -    0s\n",
      "     0     0    0.20563    0  150    0.02523    0.20563   715%     -    0s\n",
      "     0     0    0.20559    0  145    0.02523    0.20559   715%     -    0s\n",
      "     0     0    0.20343    0  146    0.02523    0.20343   706%     -    0s\n",
      "     0     0    0.20342    0  146    0.02523    0.20342   706%     -    0s\n",
      "     0     0    0.20075    0  148    0.02523    0.20075   696%     -    0s\n",
      "     0     0    0.20071    0  148    0.02523    0.20071   695%     -    0s\n",
      "     0     0    0.20066    0  146    0.02523    0.20066   695%     -    0s\n",
      "     0     0    0.20064    0  142    0.02523    0.20064   695%     -    0s\n",
      "     0     0    0.20062    0  149    0.02523    0.20062   695%     -    0s\n",
      "     0     0    0.20062    0  149    0.02523    0.20062   695%     -    0s\n",
      "H    0     0                       0.0252308    0.20062   695%     -    0s\n",
      "     0     0    0.15894    0  121    0.02523    0.15894   530%     -    0s\n",
      "     0     0    0.15888    0  121    0.02523    0.15888   530%     -    0s\n",
      "     0     0    0.15304    0  120    0.02523    0.15304   507%     -    0s\n",
      "H    0     0                       0.0252309    0.15304   507%     -    0s\n",
      "     0     0    0.14302    0  120    0.02523    0.14302   467%     -    0s\n",
      "     0     2    0.14302    0  120    0.02523    0.14302   467%     -    0s\n",
      "H   74    94                       0.0253059    0.14302   465%   134    0s\n",
      "H  113   132                       0.0518264    0.14302   176%   123    0s\n",
      "H  131   150                       0.0519854    0.14302   175%   119    0s\n",
      "H  132   150                       0.0525264    0.14302   172%   119    0s\n",
      "*  878   829             122       0.0563764    0.14302   154%  80.8    0s\n",
      "H 1685  1460                       0.0563764    0.11844   110%  71.2    1s\n",
      "H 1689  1388                       0.0563989    0.11785   109%  71.5    1s\n",
      "H 1782  1394                       0.0563989    0.11785   109%  75.5    1s\n",
      "H 1783  1330                       0.0563999    0.11785   109%  75.6    1s\n",
      "H 1785  1267                       0.0563999    0.11785   109%  75.9    1s\n",
      "H 1786  1209                       0.0593677    0.11785  98.5%  76.1    1s\n",
      "H 1852  1193                       0.0594040    0.11785  98.4%  76.4    1s\n",
      "H 1918  1179                       0.0594264    0.11785  98.3%  76.7    1s\n",
      "H 2131  1252                       0.0594294    0.11785  98.3%  76.9    1s\n",
      "H 2137  1203                       0.0594295    0.11785  98.3%  76.8    1s\n",
      "* 2414  1192             107       0.0710487    0.11785  65.9%  74.6    1s\n",
      "H 2896  1101                       0.0710498    0.11070  55.8%  80.4    1s\n",
      "H 2903  1057                       0.0710567    0.11070  55.8%  80.7    1s\n",
      "H 3277  1022                       0.0710613    0.10910  53.5%  95.1    2s\n",
      "H 3349   975                       0.0710618    0.10910  53.5%  98.0    2s\n",
      "H 3355   938                       0.0710622    0.10910  53.5%  98.7    2s\n",
      "H 3370   893                       0.0711595    0.10910  53.3%  98.6    2s\n",
      "H 4426  1231                       0.0711596    0.10528  48.0%   125    3s\n",
      "H 4429  1231                       0.0711607    0.10528  48.0%   125    3s\n",
      "H 5548  1615                       0.0711608    0.10106  42.0%   148    4s\n",
      "H 5877  1848                       0.0711608    0.10053  41.3%   151    4s\n",
      "H 5891  1848                       0.0711608    0.10039  41.1%   151    4s\n",
      "H 5988  1848                       0.0711609    0.10004  40.6%   150    4s\n",
      "  6005  1864     cutoff   25         0.07116    0.09986  40.3%   151    5s\n",
      "H 7090  2206                       0.0711618    0.09767  37.3%   165    5s\n",
      "H 7523  2375                       0.0711622    0.09694  36.2%   168    7s\n",
      " 10747  3373 infeasible   27         0.07116    0.09251  30.0%   192   10s\n",
      " 16467  4434    0.07586   43  149    0.07116    0.08810  23.8%   220   15s\n",
      "H16554  4279                       0.0711660    0.08810  23.8%   221   16s\n",
      "H16606  4111                       0.0711660    0.08810  23.8%   221   16s\n",
      "H16610  3908                       0.0711663    0.08810  23.8%   221   16s\n",
      "H16657  3746                       0.0711794    0.08810  23.8%   220   16s\n",
      "H16699  3584                       0.0711795    0.08810  23.8%   220   16s\n",
      "H16755  3436                       0.0711869    0.08810  23.8%   220   16s\n",
      "H17967  3494                       0.0711869    0.08810  23.8%   218   17s\n",
      "H18384  3403                       0.0711869    0.08810  23.8%   218   18s\n",
      "H18778  3269                       0.0711893    0.08810  23.8%   218   18s\n",
      " 20580  3313    0.07982   36  118    0.07119    0.08810  23.8%   218   20s\n",
      " 26310  3598     cutoff   37         0.07119    0.08810  23.8%   215   25s\n",
      " 32988  5050     cutoff   48         0.07119    0.08701  22.2%   217   30s\n",
      " 41140  5627     cutoff   43         0.07119    0.08335  17.1%   225   35s\n",
      "H43888  5576                       0.0711893    0.08230  15.6%   228   37s\n",
      "H44692  5565                       0.0711893    0.08205  15.3%   229   37s\n",
      "H45009  5565                       0.0711894    0.08196  15.1%   230   37s\n",
      " 47111  5364     cutoff   48         0.07119    0.08104  13.8%   232   40s\n",
      " 54346  4190    0.07342   36  120    0.07119    0.07822  9.88%   242   45s\n",
      " 59233  2023     cutoff   49         0.07119    0.07587  6.57%   253   50s\n",
      "\n",
      "Cutting planes:\n",
      "  Gomory: 2\n",
      "  Implied bound: 229\n",
      "  MIR: 46\n",
      "  Flow cover: 510\n",
      "  RLT: 6\n",
      "  Relax-and-lift: 16\n",
      "\n",
      "Explored 62901 nodes (16619223 simplex iterations) in 53.29 seconds (105.28 work units)\n",
      "Thread count was 10 (of 10 available processors)\n",
      "\n",
      "Solution count 10: 0.0711894 0.0710622 0.0710618 ... 0.0563764\n",
      "No other solutions better than 0.0711894\n",
      "\n",
      "Optimal solution found (tolerance 1.00e-04)\n",
      "Best objective 7.118938283667e-02, best bound 7.118938283667e-02, gap 0.0000%\n",
      "\n",
      "User-callback calls 135563, time in user-callback 0.02 sec\n",
      "TEH: 48.50, Tdiff: 70.50, TE: 97.00, bval: 1843.27\n"
     ]
    }
   ],
   "source": [
    "#variable\n",
    "TE = TEmax + 1\n",
    "iter = 0\n",
    "\n",
    "solve_time_all = []\n",
    "obj_all = []\n",
    "Gp_all = []\n",
    "Gn_all = []\n",
    "F_all = []\n",
    "\n",
    "while true\n",
    "    TE -= 1\n",
    "    iter += 1\n",
    "    Tdiff = TE-Teps\n",
    "    TEH = trunc(Int, TE/2.0 + 0.5)\n",
    "    \n",
    "    Inv = -1.0* ones(TE)\n",
    "    Inv[1:TEH] .= 1.0\n",
    "    \n",
    "    model = Model(() -> Gurobi.Optimizer(GRB_ENV))\n",
    "    set_optimizer_attributes(model, \"MIPGap\" => 1e-4,\"OutputFlag\" => 1);\n",
    "\n",
    "    @variable(model, Gp[1:TE]>=0) #Gradient positive part before 180 pulse\n",
    "    @variable(model, Gn[1:TE]>=0) #Gradient positive part after 180 pulse\n",
    "    @variable(model, G_sign[1:TE], Bin) #Gradient sign (only positive or negative)\n",
    "    @variable(model, F[1:TE]) #F value\n",
    "    @variable(model, F_sign[1:TE], Bin) #F value\n",
    "    @variable(model, Fp[1:TE]>=0) #F value\n",
    "    @variable(model, Fn[1:TE]>=0) #F value\n",
    "    \n",
    "    @objective(model, Max, sum(Fp[i]+Fn[i] for i=1:TE))\n",
    "    \n",
    "    @constraint(model, Gp_max_const[i in 1:TE], Gp[i] <= G_max*G_sign[i])\n",
    "    @constraint(model, Gn_max_const[i in 1:TE], Gn[i] <= G_max*(1-G_sign[i]))\n",
    "    @constraint(model, max_slew_const1[i in 2:TE], -SR_max*dt<= Gp[i]-Gp[i-1] <= SR_max*dt)\n",
    "    @constraint(model, max_slew_const2[i in 2:TE], -SR_max*dt<= Gn[i]-Gn[i-1] <= SR_max*dt)\n",
    "    @constraint(model, T90_const1[i in 1:T90], Gp[i] == 0.0)\n",
    "    @constraint(model, T90_const2[i in 1:T90], Gn[i] == 0.0)\n",
    "    \n",
    "    @constraint(model, T180_const1[i in TEH-T180+1:TEH+T180], Gp[i] == 0.0)\n",
    "    @constraint(model, TEPI_const1[i in Tdiff+1:TE], Gp[i] == 0.0)\n",
    "    @constraint(model, T180_const2[i in TEH-T180+1:TEH+T180], Gn[i] == 0.0)\n",
    "    @constraint(model, TEPI_const2[i in Tdiff+1:TE], Gn[i] == 0.0)\n",
    "\n",
    "    @constraint(model, M0_const, sum(Inv[i]*(Gp[i]-Gn[i]) for i = 1:TE) == 0.0)\n",
    "    @constraint(model, M1_const, sum(i*Inv[i]*(Gp[i]-Gn[i]) for i = 1:TE) == 0.0)\n",
    "    \n",
    "    @constraint(model, F_const1, F[1] == 0)\n",
    "    @constraint(model, F_const2[i in 2:TE], F[i] == sum(Inv[j] * (Gp[j] - Gn[j]) for j=1:i)*0.001*0.001 *dt)\n",
    "    @constraint(model, F_const_abs1[i in 1:TE], Fp[i]-Fn[i] == F[i])\n",
    "    @constraint(model, F_const_abs2[i in 1:TE], Fp[i] <= 10 * F_sign[i])\n",
    "    @constraint(model, F_const_abs3[i in 1:TE], Fn[i] <= 10 * (1 - F_sign[i]))\n",
    "\n",
    "    push!(solve_time_all, @elapsed optimize!(model))\n",
    "    push!(obj_all, objective_value(model))\n",
    "    \n",
    "    b = 0\n",
    "    \n",
    "    for i in 1:TE\n",
    "        b = b + value.(F)[i]^2\n",
    "    end\n",
    "    \n",
    "    b = b * GAMMA * GAMMA *0.001*dt\n",
    "    \n",
    "    @printf(\"TEH: %.2f, Tdiff: %.2f, TE: %.2f, bval: %.2f\\n\", TEH*dt, Tdiff*dt, TE*dt, b)\n",
    "\n",
    "    push!(Gp_all, value.(Gp))\n",
    "    push!(Gn_all, value.(Gn))\n",
    "    push!(F_all, value.(F))\n",
    "\n",
    "    if(b >= bval)\n",
    "        break\n",
    "    end\n",
    "    \n",
    "    \n",
    "end\n",
    "    "
   ]
  },
  {
   "cell_type": "code",
   "execution_count": 6,
   "id": "2ced1c70",
   "metadata": {},
   "outputs": [
    {
     "data": {
      "text/plain": [
       "57.0"
      ]
     },
     "execution_count": 6,
     "metadata": {},
     "output_type": "execute_result"
    }
   ],
   "source": [
    "TEmin*dt"
   ]
  },
  {
   "cell_type": "code",
   "execution_count": 7,
   "id": "b67fefe1",
   "metadata": {},
   "outputs": [
    {
     "ename": "LoadError",
     "evalue": "BoundsError: attempt to access 1-element Vector{Any} at index [47]",
     "output_type": "error",
     "traceback": [
      "BoundsError: attempt to access 1-element Vector{Any} at index [47]",
      "",
      "Stacktrace:",
      " [1] getindex(A::Vector{Any}, i1::Int64)",
      "   @ Base ./array.jl:924",
      " [2] top-level scope",
      "   @ In[7]:1",
      " [3] eval",
      "   @ ./boot.jl:368 [inlined]",
      " [4] include_string(mapexpr::typeof(REPL.softscope), mod::Module, code::String, filename::String)",
      "   @ Base ./loading.jl:1428"
     ]
    }
   ],
   "source": [
    "plot(F_all[47])"
   ]
  },
  {
   "cell_type": "code",
   "execution_count": null,
   "id": "1e4936a9",
   "metadata": {},
   "outputs": [],
   "source": []
  },
  {
   "cell_type": "code",
   "execution_count": 8,
   "id": "b1467f2a",
   "metadata": {},
   "outputs": [
    {
     "data": {
      "text/plain": [
       "4"
      ]
     },
     "execution_count": 8,
     "metadata": {},
     "output_type": "execute_result"
    }
   ],
   "source": [
    "T180"
   ]
  },
  {
   "cell_type": "code",
   "execution_count": 9,
   "id": "6b6c5f5d",
   "metadata": {},
   "outputs": [
    {
     "data": {
      "text/plain": [
       "55.203346"
      ]
     },
     "execution_count": 9,
     "metadata": {},
     "output_type": "execute_result"
    }
   ],
   "source": [
    "sum(solve_time_all)"
   ]
  },
  {
   "cell_type": "code",
   "execution_count": 10,
   "id": "be8c63e0",
   "metadata": {},
   "outputs": [
    {
     "data": {
      "text/plain": [
       "97.0"
      ]
     },
     "execution_count": 10,
     "metadata": {},
     "output_type": "execute_result"
    }
   ],
   "source": [
    "TE*dt"
   ]
  },
  {
   "cell_type": "code",
   "execution_count": 11,
   "id": "7f54ce7c",
   "metadata": {},
   "outputs": [
    {
     "data": {
      "text/plain": [
       "1-element Vector{Any}:\n",
       " [0.0, 0.0, 0.0, 0.0, 0.0, 0.0, 0.0, 0.0, 0.0, 0.0  …  0.0, 0.0, 0.0, 0.0, 0.0, 0.0, 0.0, 0.0, 0.0, 0.0]"
      ]
     },
     "execution_count": 11,
     "metadata": {},
     "output_type": "execute_result"
    }
   ],
   "source": [
    "Gp_all"
   ]
  },
  {
   "cell_type": "code",
   "execution_count": 12,
   "id": "729e9ccc",
   "metadata": {},
   "outputs": [
    {
     "ename": "LoadError",
     "evalue": "UndefVarError: G_ap2 not defined",
     "output_type": "error",
     "traceback": [
      "UndefVarError: G_ap2 not defined",
      "",
      "Stacktrace:",
      " [1] top-level scope",
      "   @ :0",
      " [2] eval",
      "   @ ./boot.jl:368 [inlined]",
      " [3] include_string(mapexpr::typeof(REPL.softscope), mod::Module, code::String, filename::String)",
      "   @ Base ./loading.jl:1428"
     ]
    }
   ],
   "source": [
    "G_ap2"
   ]
  },
  {
   "cell_type": "code",
   "execution_count": 13,
   "id": "c87182ba",
   "metadata": {},
   "outputs": [
    {
     "name": "stdout",
     "output_type": "stream",
     "text": [
      "Gurobi Optimizer version 9.5.2 build v9.5.2rc0 (mac64[arm])\n",
      "Thread count: 10 physical cores, 10 logical processors, using up to 10 threads\n",
      "Optimize a model with 1114 rows, 1162 columns and 40876 nonzeros\n",
      "Model fingerprint: 0x4f39c1a2\n",
      "Variable types: 968 continuous, 194 integer (194 binary)\n",
      "Coefficient statistics:\n",
      "  Matrix range     [5e-07, 2e+02]\n",
      "  Objective range  [1e+00, 1e+00]\n",
      "  Bounds range     [2e+01, 2e+01]\n",
      "  RHS range        [7e+01, 7e+01]\n",
      "Found heuristic solution: objective -0.0000000\n",
      "Presolve removed 628 rows and 564 columns\n",
      "Presolve time: 0.00s\n",
      "Presolved: 486 rows, 598 columns, 1694 nonzeros\n",
      "Variable types: 476 continuous, 122 integer (122 binary)\n",
      "\n",
      "Root relaxation: objective 8.736000e+03, 320 iterations, 0.00 seconds (0.00 work units)\n",
      "\n",
      "    Nodes    |    Current Node    |     Objective Bounds      |     Work\n",
      " Expl Unexpl |  Obj  Depth IntInf | Incumbent    BestBd   Gap | It/Node Time\n",
      "\n",
      "     0     0 8736.00000    0   18   -0.00000 8736.00000      -     -    0s\n",
      "H    0     0                    7420.0000000 8736.00000  17.7%     -    0s\n",
      "     0     0 8736.00000    0   18 7420.00000 8736.00000  17.7%     -    0s\n",
      "H    0     0                    7712.0000000 8736.00000  13.3%     -    0s\n",
      "     0     0 8736.00000    0   18 7712.00000 8736.00000  13.3%     -    0s\n",
      "     0     0 8736.00000    0   16 7712.00000 8736.00000  13.3%     -    0s\n",
      "H    0     0                    7846.9259259 8736.00000  11.3%     -    0s\n",
      "     0     0 8736.00000    0   33 7846.92593 8736.00000  11.3%     -    0s\n",
      "     0     0 8736.00000    0   12 7846.92593 8736.00000  11.3%     -    0s\n",
      "H    0     0                    7999.9842520 8736.00000  9.20%     -    0s\n",
      "     0     0 8736.00000    0   25 7999.98425 8736.00000  9.20%     -    0s\n",
      "     0     0 8736.00000    0   31 7999.98425 8736.00000  9.20%     -    0s\n",
      "     0     0 8736.00000    0    8 7999.98425 8736.00000  9.20%     -    0s\n",
      "H    0     0                    8296.0000000 8736.00000  5.30%     -    0s\n",
      "H    0     0                    8330.4881890 8736.00000  4.87%     -    0s\n",
      "     0     2 8736.00000    0    8 8330.48819 8736.00000  4.87%     -    0s\n",
      "H   77    96                    8378.3695449 8736.00000  4.27%  95.0    0s\n",
      "H  145   157                    8424.5365761 8736.00000  3.70%  67.7    0s\n",
      "H  529   254                    8424.6299213 8736.00000  3.70%  46.9    0s\n",
      "* 3553    87              25    8440.2500000 8501.91680  0.73%  41.7    0s\n",
      "\n",
      "Cutting planes:\n",
      "  Gomory: 14\n",
      "  Implied bound: 492\n",
      "  MIR: 58\n",
      "  Flow cover: 72\n",
      "  RLT: 37\n",
      "  Relax-and-lift: 68\n",
      "\n",
      "Explored 3758 nodes (154682 simplex iterations) in 0.99 seconds (1.40 work units)\n",
      "Thread count was 10 (of 10 available processors)\n",
      "\n",
      "Solution count 9: 8440.25 8424.63 8330.49 ... -0\n",
      "\n",
      "Optimal solution found (tolerance 1.00e-04)\n",
      "Best objective 8.440250000000e+03, best bound 8.440250000000e+03, gap 0.0000%\n",
      "\n",
      "User-callback calls 8046, time in user-callback 0.00 sec\n",
      "TEH: 48.50, Tdiff: 70.50, TE: 97.00, bval: 1841.20\n"
     ]
    }
   ],
   "source": [
    "TE = TEmax + 1\n",
    "iter = 0\n",
    "\n",
    "solve_time_all2 = []\n",
    "obj_all2 = []\n",
    "Gp_all2 = []\n",
    "Gn_all2 = []\n",
    "F_all2 = []\n",
    "\n",
    "while true\n",
    "    TE -= 1\n",
    "    iter += 1\n",
    "    Tdiff = TE-Teps\n",
    "    TEH = trunc(Int, TE/2.0 + 0.5)\n",
    "    \n",
    "    Inv = -1.0* ones(TE)\n",
    "    Inv[1:TEH] .= 1.0\n",
    "    \n",
    "    model = Model(() -> Gurobi.Optimizer(GRB_ENV))\n",
    "    set_optimizer_attributes(model, \"MIPGap\" => 1e-4,\"OutputFlag\" => 1);\n",
    "\n",
    "    @variable(model, Gp[1:TE]>=0) #Gradient positive part before 180 pulse\n",
    "    @variable(model, Gn[1:TE]>=0) #Gradient positive part after 180 pulse\n",
    "    @variable(model, G_sign[1:TE], Bin) #Gradient sign (only positive or negative)\n",
    "    @variable(model, F[1:TE]) #F value\n",
    "    \n",
    "    @objective(model, Max, sum(Gp[i]+Gn[i] for i=1:TE))\n",
    "    \n",
    "    @constraint(model, Gp_max_const[i in 1:TE], Gp[i] <= G_max*G_sign[i])\n",
    "    @constraint(model, Gn_max_const[i in 1:TE], Gn[i] <= G_max*(1-G_sign[i]))\n",
    "    @constraint(model, max_slew_const1[i in 2:TE], -SR_max*dt<= Gp[i]-Gp[i-1] <= SR_max*dt)\n",
    "    @constraint(model, max_slew_const2[i in 2:TE], -SR_max*dt<= Gn[i]-Gn[i-1] <= SR_max*dt)\n",
    "    @constraint(model, T90_const1[i in 1:T90], Gp[i] == 0.0)\n",
    "    @constraint(model, T90_const2[i in 1:T90], Gn[i] == 0.0)\n",
    "    \n",
    "    @constraint(model, T180_const1[i in TEH-T180+1:TEH+T180], Gp[i] == 0.0)\n",
    "    @constraint(model, TEPI_const1[i in Tdiff+1:TE], Gp[i] == 0.0)\n",
    "    @constraint(model, T180_const2[i in TEH-T180+1:TEH+T180], Gn[i] == 0.0)\n",
    "    @constraint(model, TEPI_const2[i in Tdiff+1:TE], Gn[i] == 0.0)\n",
    "\n",
    "    @constraint(model, M0_const, sum(Inv[i]*(Gp[i]-Gn[i]) for i = 1:TE) == 0.0)\n",
    "    @constraint(model, M1_const, sum(i*Inv[i]*(Gp[i]-Gn[i]) for i = 1:TE) == 0.0)\n",
    "    \n",
    "    @constraint(model, F_const1, F[1] == 0)\n",
    "    @constraint(model, F_const2[i in 2:TE], F[i] == sum(Inv[j] * (Gp[j] - Gn[j]) for j=1:i)*0.001*0.001 *dt)\n",
    "\n",
    "    push!(solve_time_all2, @elapsed optimize!(model))\n",
    "    push!(obj_all2, objective_value(model))\n",
    "    \n",
    "    b = 0\n",
    "    \n",
    "    for i in 1:TE\n",
    "        b = b + value.(F)[i]^2\n",
    "    end\n",
    "    \n",
    "    b = b * GAMMA * GAMMA *0.001*dt\n",
    "    \n",
    "    @printf(\"TEH: %.2f, Tdiff: %.2f, TE: %.2f, bval: %.2f\\n\", TEH*dt, Tdiff*dt, TE*dt, b)\n",
    "\n",
    "    push!(Gp_all2, value.(Gp))\n",
    "    push!(Gn_all2, value.(Gn))\n",
    "    push!(F_all2, value.(F))\n",
    "\n",
    "    if(b >= bval)\n",
    "        break\n",
    "    end\n",
    "    \n",
    "    \n",
    "end"
   ]
  },
  {
   "cell_type": "code",
   "execution_count": 14,
   "id": "5f9952d6",
   "metadata": {},
   "outputs": [
    {
     "ename": "LoadError",
     "evalue": "BoundsError: attempt to access 1-element Vector{Any} at index [47]",
     "output_type": "error",
     "traceback": [
      "BoundsError: attempt to access 1-element Vector{Any} at index [47]",
      "",
      "Stacktrace:",
      " [1] getindex(A::Vector{Any}, i1::Int64)",
      "   @ Base ./array.jl:924",
      " [2] top-level scope",
      "   @ In[14]:1",
      " [3] eval",
      "   @ ./boot.jl:368 [inlined]",
      " [4] include_string(mapexpr::typeof(REPL.softscope), mod::Module, code::String, filename::String)",
      "   @ Base ./loading.jl:1428"
     ]
    }
   ],
   "source": [
    "G_ap1 = Gp_all[47]-Gn_all[47]\n",
    "G_ap2 = zeros(74)\n",
    "for i in 1:74\n",
    "    G_ap2[i] = G_ap1[1+2*(i-1)]\n",
    "end\n",
    "\n",
    "G_ap3 = Gp_all2[47]-Gn_all2[47]\n",
    "G_ap4 = zeros(74)\n",
    "for i in 1:74\n",
    "    G_ap4[i] = G_ap3[1+2*(i-1)]\n",
    "end\n",
    "\n",
    "xx = range(1,74)\n",
    "\n",
    "plot(xx,G_ap2,title=\"Optimal G(t)-Implementation 2\",xtickfontsize=12,ytickfontsize=12,label=\"bval1\",xlabel=\"Time[ms]\",ylabel=\"Gradient amplitude[mT/m]\",fmt = :png)\n",
    "plot!(xx,G_ap4, label=\"bval2\")"
   ]
  },
  {
   "cell_type": "code",
   "execution_count": 15,
   "id": "9f8f2ecc",
   "metadata": {},
   "outputs": [
    {
     "data": {
      "text/plain": [
       "55.203346"
      ]
     },
     "execution_count": 15,
     "metadata": {},
     "output_type": "execute_result"
    }
   ],
   "source": [
    "sum(solve_time_all)"
   ]
  },
  {
   "cell_type": "code",
   "execution_count": 16,
   "id": "c6a7b0df",
   "metadata": {},
   "outputs": [
    {
     "data": {
      "text/plain": [
       "0.993192542"
      ]
     },
     "execution_count": 16,
     "metadata": {},
     "output_type": "execute_result"
    }
   ],
   "source": [
    "sum(solve_time_all2)"
   ]
  },
  {
   "cell_type": "code",
   "execution_count": 17,
   "id": "cd694fd9",
   "metadata": {},
   "outputs": [
    {
     "data": {
      "text/plain": [
       "18.0"
      ]
     },
     "execution_count": 17,
     "metadata": {},
     "output_type": "execute_result"
    }
   ],
   "source": [
    "1080/60"
   ]
  },
  {
   "cell_type": "code",
   "execution_count": 18,
   "id": "41dc8e81",
   "metadata": {},
   "outputs": [
    {
     "data": {
      "text/plain": [
       "2.8833333333333333"
      ]
     },
     "execution_count": 18,
     "metadata": {},
     "output_type": "execute_result"
    }
   ],
   "source": [
    "173/60"
   ]
  },
  {
   "cell_type": "code",
   "execution_count": null,
   "id": "7aea9aa2",
   "metadata": {},
   "outputs": [],
   "source": []
  }
 ],
 "metadata": {
  "kernelspec": {
   "display_name": "Julia 1.8.0",
   "language": "julia",
   "name": "julia-1.8"
  },
  "language_info": {
   "file_extension": ".jl",
   "mimetype": "application/julia",
   "name": "julia",
   "version": "1.8.0"
  }
 },
 "nbformat": 4,
 "nbformat_minor": 5
}
