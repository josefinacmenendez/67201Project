{
 "cells": [
  {
   "cell_type": "code",
   "execution_count": 1,
   "id": "d2a7c198",
   "metadata": {},
   "outputs": [],
   "source": [
    "using DataFrames, CSV\n",
    "using JLD\n",
    "using JuMP, Gurobi\n",
    "using LinearAlgebra, Random, Printf, StatsBase, CategoricalArrays\n",
    "using Plots, StatsPlots\n",
    "using Distributions"
   ]
  },
  {
   "cell_type": "code",
   "execution_count": 2,
   "id": "a8ba549a",
   "metadata": {},
   "outputs": [
    {
     "name": "stdout",
     "output_type": "stream",
     "text": [
      "Set parameter Username\n",
      "Academic license - for non-commercial use only - expires 2023-09-04\n"
     ]
    }
   ],
   "source": [
    "const GRB_ENV = Gurobi.Env();"
   ]
  },
  {
   "cell_type": "code",
   "execution_count": 3,
   "id": "773a5a99",
   "metadata": {},
   "outputs": [],
   "source": [
    "G_max = 74.0 #max gradient, prevent nerve stimulation by limiting max gradient and slew rate. mT/m\n",
    "SR_max = 50.0 #max slew rate mT/m/ms\n",
    "\n",
    "dt = 0.5 #ms\n",
    "Teps = 26.4 #time to echo ms\n",
    "T90 = 5.3 #90 degree RF time ms\n",
    "T180 = 4.3 #half of 180 degree RF time ms\n",
    "lambda_null = 60 #ms\n",
    "epsilion = 1e-4\n",
    "GAMMA = (42.58*10^3) * 2 * pi;\n",
    "\n",
    "\n",
    "TEmin = T180 + 2 * Teps\n",
    "TEmax = 97.0\n",
    "bval = 500.0;"
   ]
  },
  {
   "cell_type": "code",
   "execution_count": 4,
   "id": "c11beb7b",
   "metadata": {},
   "outputs": [],
   "source": [
    "Teps = trunc(Int,Teps/dt+0.5)\n",
    "T90 = trunc(Int, T90/dt + 0.5)\n",
    "T180 = trunc(Int, T180/dt + 0.5)\n",
    "TEmin = trunc(Int, TEmin/dt + 0.5)\n",
    "TEmax = trunc(Int, TEmax/dt + 0.5)\n",
    "lambda_null = lambda_null/dt\n",
    "bval_target = sqrt(bval*2*TEmin / (GAMMA*GAMMA*0.001*dt))*0.50;"
   ]
  },
  {
   "cell_type": "code",
   "execution_count": 5,
   "id": "30786b84",
   "metadata": {},
   "outputs": [
    {
     "data": {
      "text/plain": [
       "0.02821966815168502"
      ]
     },
     "execution_count": 5,
     "metadata": {},
     "output_type": "execute_result"
    }
   ],
   "source": [
    "bval_target"
   ]
  },
  {
   "cell_type": "code",
   "execution_count": 6,
   "id": "36f62bd5",
   "metadata": {},
   "outputs": [
    {
     "name": "stdout",
     "output_type": "stream",
     "text": [
      "Set parameter TimeLimit to value 7200\n"
     ]
    }
   ],
   "source": [
    "model = Model(() -> Gurobi.Optimizer(GRB_ENV))\n",
    "set_optimizer_attributes(model, \"TimeLimit\" => 7200, \"MIPGap\" => 1e-4);"
   ]
  },
  {
   "cell_type": "code",
   "execution_count": 7,
   "id": "a10004f7",
   "metadata": {},
   "outputs": [],
   "source": [
    "#variable\n",
    "@variable(model, TE>=0, Int) #Echo time\n",
    "@variable(model, Tdiff>=0, Int) #Diffusion time\n",
    "@variable(model, b>=0) #b_val\n",
    "@variable(model, Gp1[1:TEmax]>=0) #Gradient positive part before 180 pulse\n",
    "@variable(model, Gp2[1:TEmax]>=0) #Gradient positive part after 180 pulse\n",
    "@variable(model, Gn1[1:TEmax]>=0) #Gradient negative part before 180 pulse\n",
    "@variable(model, Gn2[1:TEmax]>=0) #Gradient negative part after 180 pulse\n",
    "@variable(model, G_sign[1:TEmax], Bin) #Gradient sign (only positive or negative)\n",
    "@variable(model, G_samp1[1:TEmax], Bin) #Gradient sampling (~T90 = 0)\n",
    "@variable(model, G_samp2[1:TEmax], Bin) #Gradient sampling (TE/2-T180/2~TE/2+T180/2 = 0)\n",
    "@variable(model, G_samp3[1:TEmax], Bin) #Gradient sampling (Tdiff~TE = 0)\n",
    "@variable(model, G_inv[1:TEmax], Bin) #Gradient inversion (Gradient inversion after 180 pulse)\n",
    "@variable(model, F[1:TEmax]) #F value\n",
    "@variable(model, F_sign[1:TEmax], Bin) #F value\n",
    "@variable(model, Fp[1:TEmax]>=0) #F value\n",
    "@variable(model, Fn[1:TEmax]>=0) #F value\n",
    "\n",
    "#objective\n",
    "@objective(model, Min, TE)\n",
    "\n",
    "#constraints\n",
    "@constraint(model, TE_const, TEmin <= TE <= TEmax)\n",
    "@constraint(model, Tdiff_cal, Tdiff == TE-Teps)\n",
    "\n",
    "@constraint(model, T90_const1[i in 1:T90], G_samp1[i] == 1)\n",
    "@constraint(model, T90_const2[i in T90+1:TEmax], G_samp1[i] == 0)\n",
    "\n",
    "@constraint(model, T180_const1[i in 1:TEmax], i*G_samp2[i] <= TE/2+T180/2)\n",
    "@constraint(model, T180_const2[i in 1:TEmax], (TEmax - (i-1))*G_samp2[i] <= TEmax - (TE/2-T180/2))\n",
    "@constraint(model, T180_const3, sum(G_samp2[i] for i = 1:TEmax) >= T180)\n",
    "\n",
    "@constraint(model, Tdiff_const[i in 1:TEmax], (TEmax-(i-1))*G_samp3[i] <= TEmax - (Tdiff-1))\n",
    "@constraint(model, Tdiff_const2, sum(1-G_samp3[i] for i = 1:TEmax) <= Tdiff-1)\n",
    "\n",
    "@constraint(model, Tinv_const[i in 1:TEmax], (TEmax-(i-1))*G_inv[i] <= TEmax - (TE/2-1))\n",
    "@constraint(model, Tinv_const2, sum(1-G_inv[i] for i = 1:TEmax) <= TE/2)\n",
    "\n",
    "\n",
    "@constraint(model, Gp_sampling_const1[i in 1:TEmax], Gp1[i] <= 10000*(1-G_samp1[i]-G_samp2[i]-G_samp3[i]))\n",
    "@constraint(model, Gn_sampling_const1[i in 1:TEmax], Gn1[i] <= 10000*(1-G_samp1[i]-G_samp2[i]-G_samp3[i]))\n",
    "@constraint(model, Gp_sampling_const2[i in 1:TEmax], Gp2[i] <= 10000*(1-G_samp1[i]-G_samp2[i]-G_samp3[i]))\n",
    "@constraint(model, Gn_sampling_const2[i in 1:TEmax], Gn2[i] <= 10000*(1-G_samp1[i]-G_samp2[i]-G_samp3[i]))\n",
    "\n",
    "\n",
    "@constraint(model, Gp_max_const1[i in 1:TEmax], Gp1[i] <= G_max*G_sign[i])\n",
    "@constraint(model, Gn_max_const1[i in 1:TEmax], Gn1[i] <= G_max*(1-G_sign[i]))\n",
    "@constraint(model, Gp_max_const2[i in 1:TEmax], Gp2[i] <= G_max*G_sign[i])\n",
    "@constraint(model, Gn_max_const2[i in 1:TEmax], Gn2[i] <= G_max*(1-G_sign[i]))\n",
    "\n",
    "@constraint(model, Gp1_const[i in 1:TEmax], Gp1[i] <= 10000 * (1-G_inv[i]))\n",
    "@constraint(model, Gn1_const[i in 1:TEmax], Gn1[i] <= 10000 * (1-G_inv[i]))\n",
    "@constraint(model, Gp2_const[i in 1:TEmax], Gp2[i] <= 10000 * G_inv[i])\n",
    "@constraint(model, Gn2_const[i in 1:TEmax], Gn2[i] <= 10000 * G_inv[i])\n",
    "\n",
    "@constraint(model, max_slew_const1[i in 2:TEmax], -SR_max*dt<= Gp1[i]-Gp1[i-1] <= SR_max*dt)\n",
    "@constraint(model, max_slew_const2[i in 2:TEmax], -SR_max*dt<= Gn1[i]-Gn1[i-1] <= SR_max*dt)\n",
    "@constraint(model, max_slew_const3[i in 2:TEmax], -SR_max*dt<= Gp2[i]-Gp2[i-1] <= SR_max*dt)\n",
    "@constraint(model, max_slew_const4[i in 2:TEmax], -SR_max*dt<= Gn2[i]-Gn2[i-1] <= SR_max*dt)\n",
    "\n",
    "@constraint(model, M0_const, sum(Gp1[i]-Gn1[i]-Gp2[i]+Gn2[i] for i = 1:TEmax) == 0)\n",
    "@constraint(model, M1_const, sum(i*(Gp1[i]-Gn1[i]-Gp2[i]+Gn2[i]) for i = 1:TEmax) == 0)\n",
    "\n",
    "@constraint(model, F_const1, F[1] == 0)\n",
    "@constraint(model, F_const2[i in 2:TEmax], F[i] == sum(Gp1[j] - Gn1[j] - Gp2[j] + Gn2[j] for j=1:i)*0.001*0.001 *dt)\n",
    "@constraint(model, F_const_abs1[i in 1:TEmax], Fp[i]-Fn[i] == F[i])\n",
    "@constraint(model, F_const_abs2[i in 1:TEmax], Fp[i] <= 10 * F_sign[i])\n",
    "@constraint(model, F_const_abs3[i in 1:TEmax], Fn[i] <= 10 * (1 - F_sign[i]))\n",
    "\n",
    "@constraint(model, b_const, sum(Fp[i]+Fn[i] for i=1:TEmax) >= bval_target);\n",
    "#@constraint(model, Eddy_const, ((Gp[Tdiff]-Gn[Tdiff])-(Gp[Tdiff-1]-Gn[Tdiff-1])) * eps(-Tdiff/lambda_null) <= epsilion);\n"
   ]
  },
  {
   "cell_type": "code",
   "execution_count": 8,
   "id": "d39f9d5d",
   "metadata": {
    "scrolled": true
   },
   "outputs": [
    {
     "name": "stdout",
     "output_type": "stream",
     "text": [
      "Set parameter TimeLimit to value 7200\n",
      "Gurobi Optimizer version 9.5.2 build v9.5.2rc0 (mac64[arm])\n",
      "Thread count: 10 physical cores, 10 logical processors, using up to 10 threads\n",
      "Optimize a model with 4854 rows, 3298 columns and 90006 nonzeros\n",
      "Model fingerprint: 0x905e4bb4\n",
      "Variable types: 2132 continuous, 1166 integer (1164 binary)\n",
      "Coefficient statistics:\n",
      "  Matrix range     [5e-07, 1e+04]\n",
      "  Objective range  [1e+00, 1e+00]\n",
      "  Bounds range     [2e+01, 2e+02]\n",
      "  RHS range        [3e-02, 1e+04]\n",
      "Presolve removed 2633 rows and 1590 columns\n",
      "Presolve time: 0.07s\n",
      "Presolved: 2221 rows, 1708 columns, 8012 nonzeros\n",
      "Variable types: 1199 continuous, 509 integer (508 binary)\n",
      "\n",
      "Root relaxation: objective 1.170000e+02, 240 iterations, 0.00 seconds (0.00 work units)\n",
      "\n",
      "    Nodes    |    Current Node    |     Objective Bounds      |     Work\n",
      " Expl Unexpl |  Obj  Depth IntInf | Incumbent    BestBd   Gap | It/Node Time\n",
      "\n",
      "     0     0  117.00000    0    7          -  117.00000      -     -    0s\n",
      "     0     0  117.00000    0    9          -  117.00000      -     -    0s\n",
      "     0     0  117.00000    0    9          -  117.00000      -     -    0s\n",
      "     0     0  117.00000    0   10          -  117.00000      -     -    0s\n",
      "     0     0  117.00000    0    5          -  117.00000      -     -    0s\n",
      "     0     0  117.00000    0    8          -  117.00000      -     -    0s\n",
      "     0     0  117.00000    0   10          -  117.00000      -     -    0s\n",
      "     0     0  117.00000    0    5          -  117.00000      -     -    0s\n",
      "     0     0  117.00000    0    5          -  117.00000      -     -    0s\n",
      "     0     0  117.00000    0    5          -  117.00000      -     -    0s\n",
      "     0     2  117.00000    0    5          -  117.00000      -     -    0s\n",
      "  9178  7293 infeasible   87               -  117.00000      -  41.6    5s\n",
      " 11167  7872  117.00000   85  116          -  117.00000      -   109   10s\n",
      " 13158  8310  117.00000   72  110          -  117.00000      -   176   15s\n",
      " 14493  8317 infeasible   92               -  117.00000      -   220   20s\n",
      " 15832  8433  117.00000   84  134          -  117.00000      -   259   25s\n",
      " 16754  8438 infeasible   94               -  117.00000      -   287   30s\n",
      " 17617  8414 infeasible   89               -  117.00000      -   325   35s\n",
      " 19602  8127 infeasible   87               -  117.00000      -   386   44s\n",
      " 20357  8043 infeasible   88               -  117.00000      -   404   48s\n",
      " 21568  8023  117.00000   88  124          -  117.00000      -   438   53s\n",
      " 22696  7960 infeasible   94               -  117.00000      -   461   58s\n",
      " 23933  8543  117.00000   84  134          -  117.00000      -   491   63s\n",
      " 25864  9068  117.00000   72  102          -  117.00000      -   506   69s\n",
      " 27298 11384  117.00000   83  136          -  117.00000      -   514   74s\n",
      " 30716 13178  129.70321   88  211          -  117.00000      -   497   78s\n",
      " 33412 13618 infeasible   87               -  117.00000      -   488   80s\n",
      "\n",
      "Cutting planes:\n",
      "  Gomory: 4\n",
      "  Implied bound: 2\n",
      "  MIR: 2\n",
      "  Flow cover: 2\n",
      "\n",
      "Explored 34144 nodes (16734159 simplex iterations) in 80.28 seconds (230.49 work units)\n",
      "Thread count was 10 (of 10 available processors)\n",
      "\n",
      "Solution count 0\n",
      "\n",
      "Solve interrupted\n",
      "Best objective -, best bound 1.170000000000e+02, gap -\n",
      "\n",
      "User-callback calls 89300, time in user-callback 0.02 sec\n"
     ]
    },
    {
     "data": {
      "text/plain": [
       "81.700989667"
      ]
     },
     "execution_count": 8,
     "metadata": {},
     "output_type": "execute_result"
    }
   ],
   "source": [
    "solvetime = @elapsed optimize!(model)"
   ]
  },
  {
   "cell_type": "code",
   "execution_count": null,
   "id": "a6ae2276",
   "metadata": {},
   "outputs": [],
   "source": []
  }
 ],
 "metadata": {
  "kernelspec": {
   "display_name": "Julia 1.8.0",
   "language": "julia",
   "name": "julia-1.8"
  },
  "language_info": {
   "file_extension": ".jl",
   "mimetype": "application/julia",
   "name": "julia",
   "version": "1.8.0"
  }
 },
 "nbformat": 4,
 "nbformat_minor": 5
}
