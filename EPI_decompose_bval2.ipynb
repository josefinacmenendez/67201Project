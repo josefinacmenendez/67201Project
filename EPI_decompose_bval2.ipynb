{
 "cells": [
  {
   "cell_type": "code",
   "execution_count": 1,
   "id": "d2a7c198",
   "metadata": {},
   "outputs": [],
   "source": [
    "using DataFrames, CSV\n",
    "using JLD\n",
    "using JuMP, Gurobi\n",
    "using LinearAlgebra, Random, Printf, StatsBase, CategoricalArrays\n",
    "using Plots, StatsPlots\n",
    "using Distributions"
   ]
  },
  {
   "cell_type": "code",
   "execution_count": 2,
   "id": "a8ba549a",
   "metadata": {},
   "outputs": [
    {
     "name": "stdout",
     "output_type": "stream",
     "text": [
      "Set parameter Username\n",
      "Academic license - for non-commercial use only - expires 2023-09-04\n"
     ]
    }
   ],
   "source": [
    "const GRB_ENV = Gurobi.Env();"
   ]
  },
  {
   "cell_type": "code",
   "execution_count": 3,
   "id": "773a5a99",
   "metadata": {},
   "outputs": [],
   "source": [
    "G_max = 74.0 #max gradient, prevent nerve stimulation by limiting max gradient and slew rate. mT/m\n",
    "SR_max = 50.0 #max slew rate mT/m/ms\n",
    "\n",
    "dt = 0.5 #ms\n",
    "Teps = 26.4 #time to echo ms\n",
    "T90 = 5.3 #90 degree RF time ms\n",
    "T180 = 4.3 #half of 180 degree RF time ms\n",
    "lambda_null = 60 #ms\n",
    "epsilion = 1e-4\n",
    "GAMMA = (42.58*10^3) * 2 * pi;\n",
    "\n",
    "\n",
    "TEmin = T180 + 2 * Teps\n",
    "TEmax = 97.0\n",
    "bval = 500.0;"
   ]
  },
  {
   "cell_type": "code",
   "execution_count": 4,
   "id": "c11beb7b",
   "metadata": {},
   "outputs": [],
   "source": [
    "Teps = trunc(Int,Teps/dt+0.5)\n",
    "T90 = trunc(Int, T90/dt + 0.5)\n",
    "T180 = trunc(Int, T180/dt/2 + 0.5)\n",
    "TEmin = trunc(Int, TEmin/dt + 0.5)\n",
    "TEmax = trunc(Int, TEmax/dt + 0.5)\n",
    "lambda_null = lambda_null/dt;"
   ]
  },
  {
   "cell_type": "code",
   "execution_count": 5,
   "id": "a10004f7",
   "metadata": {},
   "outputs": [
    {
     "name": "stdout",
     "output_type": "stream",
     "text": [
      "TEH: 48.50, Tdiff: 70.50, TE: 97.00, bval: 1841.20\n",
      "TEH: 48.50, Tdiff: 70.00, TE: 96.50, bval: 1453.19\n",
      "TEH: 48.00, Tdiff: 69.50, TE: 96.00, bval: 1377.24\n",
      "TEH: 48.00, Tdiff: 69.00, TE: 95.50, bval: 1677.74\n",
      "TEH: 47.50, Tdiff: 68.50, TE: 95.00, bval: 1672.92\n",
      "TEH: 47.50, Tdiff: 68.00, TE: 94.50, bval: 1619.61\n",
      "TEH: 47.00, Tdiff: 67.50, TE: 94.00, bval: 1301.24\n",
      "TEH: 47.00, Tdiff: 67.00, TE: 93.50, bval: 1527.90\n",
      "TEH: 46.50, Tdiff: 66.50, TE: 93.00, bval: 1515.97\n",
      "TEH: 46.50, Tdiff: 66.00, TE: 92.50, bval: 1240.55\n",
      "TEH: 46.00, Tdiff: 65.50, TE: 92.00, bval: 1424.06\n",
      "TEH: 46.00, Tdiff: 65.00, TE: 91.50, bval: 1412.64\n",
      "TEH: 45.50, Tdiff: 64.50, TE: 91.00, bval: 1156.50\n",
      "TEH: 45.50, Tdiff: 64.00, TE: 90.50, bval: 1321.09\n",
      "TEH: 45.00, Tdiff: 63.50, TE: 90.00, bval: 1090.82\n",
      "TEH: 45.00, Tdiff: 63.00, TE: 89.50, bval: 1254.32\n",
      "TEH: 44.50, Tdiff: 62.50, TE: 89.00, bval: 1234.47\n",
      "TEH: 44.50, Tdiff: 62.00, TE: 88.50, bval: 1193.42\n",
      "TEH: 44.00, Tdiff: 61.50, TE: 88.00, bval: 1021.53\n",
      "TEH: 44.00, Tdiff: 61.00, TE: 87.50, bval: 1007.40\n",
      "TEH: 43.50, Tdiff: 60.50, TE: 87.00, bval: 964.45\n",
      "TEH: 43.50, Tdiff: 60.00, TE: 86.50, bval: 964.04\n",
      "TEH: 43.00, Tdiff: 59.50, TE: 86.00, bval: 1050.36\n",
      "TEH: 43.00, Tdiff: 59.00, TE: 85.50, bval: 1010.80\n",
      "TEH: 42.50, Tdiff: 58.50, TE: 85.00, bval: 898.41\n",
      "TEH: 42.50, Tdiff: 58.00, TE: 84.50, bval: 896.74\n",
      "TEH: 42.00, Tdiff: 57.50, TE: 84.00, bval: 944.51\n",
      "TEH: 42.00, Tdiff: 57.00, TE: 83.50, bval: 848.40\n",
      "TEH: 41.50, Tdiff: 56.50, TE: 83.00, bval: 869.43\n",
      "TEH: 41.50, Tdiff: 56.00, TE: 82.50, bval: 794.36\n",
      "TEH: 41.00, Tdiff: 55.50, TE: 82.00, bval: 785.52\n",
      "TEH: 41.00, Tdiff: 55.00, TE: 81.50, bval: 785.82\n",
      "TEH: 40.50, Tdiff: 54.50, TE: 81.00, bval: 765.12\n",
      "TEH: 40.50, Tdiff: 54.00, TE: 80.50, bval: 742.57\n",
      "TEH: 40.00, Tdiff: 53.50, TE: 80.00, bval: 757.66\n",
      "TEH: 40.00, Tdiff: 53.00, TE: 79.50, bval: 743.33\n",
      "TEH: 39.50, Tdiff: 52.50, TE: 79.00, bval: 685.43\n",
      "TEH: 39.50, Tdiff: 52.00, TE: 78.50, bval: 685.28\n",
      "TEH: 39.00, Tdiff: 51.50, TE: 78.00, bval: 666.15\n",
      "TEH: 39.00, Tdiff: 51.00, TE: 77.50, bval: 646.35\n",
      "TEH: 38.50, Tdiff: 50.50, TE: 77.00, bval: 632.64\n",
      "TEH: 38.50, Tdiff: 50.00, TE: 76.50, bval: 620.71\n",
      "TEH: 38.00, Tdiff: 49.50, TE: 76.00, bval: 593.87\n",
      "TEH: 38.00, Tdiff: 49.00, TE: 75.50, bval: 561.59\n",
      "TEH: 37.50, Tdiff: 48.50, TE: 75.00, bval: 546.25\n",
      "TEH: 37.50, Tdiff: 48.00, TE: 74.50, bval: 511.96\n",
      "TEH: 37.00, Tdiff: 47.50, TE: 74.00, bval: 502.58\n",
      "TEH: 37.00, Tdiff: 47.00, TE: 73.50, bval: 465.63\n"
     ]
    }
   ],
   "source": [
    "#variable\n",
    "TE = TEmax + 1\n",
    "iter = 0\n",
    "\n",
    "solve_time_all = []\n",
    "obj_all = []\n",
    "Gp_all = []\n",
    "Gn_all = []\n",
    "F_all = []\n",
    "\n",
    "while true\n",
    "    TE -= 1\n",
    "    iter += 1\n",
    "    Tdiff = TE-Teps\n",
    "    TEH = trunc(Int, TE/2.0 + 0.5)\n",
    "    \n",
    "    Inv = -1.0* ones(TE)\n",
    "    Inv[1:TEH] .= 1.0\n",
    "    \n",
    "    model = Model(() -> Gurobi.Optimizer(GRB_ENV))\n",
    "    set_optimizer_attributes(model, \"MIPGap\" => 1e-4,\"OutputFlag\" => 0);\n",
    "\n",
    "    @variable(model, Gp[1:TE]>=0) #Gradient positive part before 180 pulse\n",
    "    @variable(model, Gn[1:TE]>=0) #Gradient positive part after 180 pulse\n",
    "    @variable(model, G_sign[1:TE], Bin) #Gradient sign (only positive or negative)\n",
    "    @variable(model, F[1:TE]) #F value\n",
    "    \n",
    "    @objective(model, Max, sum(Gp[i]+Gn[i] for i=1:TE))\n",
    "    \n",
    "    @constraint(model, Gp_max_const[i in 1:TE], Gp[i] <= G_max*G_sign[i])\n",
    "    @constraint(model, Gn_max_const[i in 1:TE], Gn[i] <= G_max*(1-G_sign[i]))\n",
    "    @constraint(model, max_slew_const1[i in 2:TE], -SR_max*dt<= Gp[i]-Gp[i-1] <= SR_max*dt)\n",
    "    @constraint(model, max_slew_const2[i in 2:TE], -SR_max*dt<= Gn[i]-Gn[i-1] <= SR_max*dt)\n",
    "    @constraint(model, T90_const1[i in 1:T90], Gp[i] == 0.0)\n",
    "    @constraint(model, T90_const2[i in 1:T90], Gn[i] == 0.0)\n",
    "    \n",
    "    @constraint(model, T180_const1[i in TEH-T180+1:TEH+T180], Gp[i] == 0.0)\n",
    "    @constraint(model, TEPI_const1[i in Tdiff+1:TE], Gp[i] == 0.0)\n",
    "    @constraint(model, T180_const2[i in TEH-T180+1:TEH+T180], Gn[i] == 0.0)\n",
    "    @constraint(model, TEPI_const2[i in Tdiff+1:TE], Gn[i] == 0.0)\n",
    "\n",
    "    @constraint(model, M0_const, sum(Inv[i]*(Gp[i]-Gn[i]) for i = 1:TE) == 0.0)\n",
    "    @constraint(model, M1_const, sum(i*Inv[i]*(Gp[i]-Gn[i]) for i = 1:TE) == 0.0)\n",
    "    \n",
    "    @constraint(model, F_const1, F[1] == 0)\n",
    "    @constraint(model, F_const2[i in 2:TE], F[i] == sum(Inv[j] * (Gp[j] - Gn[j]) for j=1:i)*0.001*0.001 *dt)\n",
    "\n",
    "    push!(solve_time_all, @elapsed optimize!(model))\n",
    "    push!(obj_all, objective_value(model))\n",
    "    \n",
    "    b = 0\n",
    "    \n",
    "    for i in 1:TE\n",
    "        b = b + value.(F)[i]^2\n",
    "    end\n",
    "    \n",
    "    b = b * GAMMA * GAMMA *0.001*dt\n",
    "    \n",
    "    @printf(\"TEH: %.2f, Tdiff: %.2f, TE: %.2f, bval: %.2f\\n\", TEH*dt, Tdiff*dt, TE*dt, b)\n",
    "\n",
    "    push!(Gp_all, value.(Gp))\n",
    "    push!(Gn_all, value.(Gn))\n",
    "    push!(F_all, value.(F))\n",
    "\n",
    "    if(b < bval)\n",
    "        break\n",
    "    end\n",
    "    \n",
    "    \n",
    "end\n",
    "    "
   ]
  },
  {
   "cell_type": "code",
   "execution_count": 6,
   "id": "2ced1c70",
   "metadata": {},
   "outputs": [
    {
     "data": {
      "text/plain": [
       "57.0"
      ]
     },
     "execution_count": 6,
     "metadata": {},
     "output_type": "execute_result"
    }
   ],
   "source": [
    "TEmin*dt"
   ]
  },
  {
   "cell_type": "code",
   "execution_count": 7,
   "id": "b67fefe1",
   "metadata": {},
   "outputs": [
    {
     "data": {
      "text/plain": [
       "97.0"
      ]
     },
     "execution_count": 7,
     "metadata": {},
     "output_type": "execute_result"
    }
   ],
   "source": [
    "TEmax*dt"
   ]
  },
  {
   "cell_type": "code",
   "execution_count": 28,
   "id": "1e4936a9",
   "metadata": {},
   "outputs": [
    {
     "data": {
      "image/png": "[encoded data removed]"
     },
     "execution_count": 28,
     "metadata": {},
     "output_type": "execute_result"
    }
   ],
   "source": [
    "G_ap = Gp_all[47]-Gn_all[47]\n",
    "G_ap2 = zeros(74)\n",
    "for i in 1:74\n",
    "    G_ap2[i] = G_ap[1+2*(i-1)]\n",
    "end\n",
    "\n",
    "plot(G_ap2,title=\"Optimal G(t)-2 step\", xtickfontsize=12,ytickfontsize=12,label=nothing,xlabel=\"Time[ms]\",ylabel=\"Gradient amplitude[mT/m]\",fmt = :png)"
   ]
  },
  {
   "cell_type": "code",
   "execution_count": 9,
   "id": "b1467f2a",
   "metadata": {},
   "outputs": [
    {
     "data": {
      "text/plain": [
       "4"
      ]
     },
     "execution_count": 9,
     "metadata": {},
     "output_type": "execute_result"
    }
   ],
   "source": [
    "T180"
   ]
  },
  {
   "cell_type": "code",
   "execution_count": 10,
   "id": "6b6c5f5d",
   "metadata": {},
   "outputs": [
    {
     "data": {
      "text/plain": [
       "168.2161292499999"
      ]
     },
     "execution_count": 10,
     "metadata": {},
     "output_type": "execute_result"
    }
   ],
   "source": [
    "sum(solve_time_all)"
   ]
  },
  {
   "cell_type": "code",
   "execution_count": 11,
   "id": "be8c63e0",
   "metadata": {},
   "outputs": [
    {
     "data": {
      "text/plain": [
       "73.5"
      ]
     },
     "execution_count": 11,
     "metadata": {},
     "output_type": "execute_result"
    }
   ],
   "source": [
    "TE*dt"
   ]
  },
  {
   "cell_type": "code",
   "execution_count": 12,
   "id": "24ed67bb",
   "metadata": {},
   "outputs": [
    {
     "data": {
      "text/plain": [
       "48-element Vector{Any}:\n",
       " [0.0, 0.0, 0.0, 0.0, 0.0, 0.0, 0.0, 0.0, 0.0, 0.0  …  0.0, 0.0, 0.0, 0.0, 0.0, 0.0, 0.0, 0.0, 0.0, 0.0]\n",
       " [0.0, 0.0, 0.0, 0.0, 0.0, 0.0, 0.0, 0.0, 0.0, 0.0  …  0.0, 0.0, 0.0, 0.0, 0.0, 0.0, 0.0, 0.0, 0.0, 0.0]\n",
       " [0.0, 0.0, 0.0, 0.0, 0.0, 0.0, 0.0, 0.0, 0.0, 0.0  …  0.0, 0.0, 0.0, 0.0, 0.0, 0.0, 0.0, 0.0, 0.0, 0.0]\n",
       " [0.0, 0.0, 0.0, 0.0, 0.0, 0.0, 0.0, 0.0, 0.0, 0.0  …  0.0, 0.0, 0.0, 0.0, 0.0, 0.0, 0.0, 0.0, 0.0, 0.0]\n",
       " [0.0, 0.0, 0.0, 0.0, 0.0, 0.0, 0.0, 0.0, 0.0, 0.0  …  0.0, 0.0, 0.0, 0.0, 0.0, 0.0, 0.0, 0.0, 0.0, 0.0]\n",
       " [0.0, 0.0, 0.0, 0.0, 0.0, 0.0, 0.0, 0.0, 0.0, 0.0  …  0.0, 0.0, 0.0, 0.0, 0.0, 0.0, 0.0, 0.0, 0.0, 0.0]\n",
       " [0.0, 0.0, 0.0, 0.0, 0.0, 0.0, 0.0, 0.0, 0.0, 0.0  …  0.0, 0.0, 0.0, 0.0, 0.0, 0.0, 0.0, 0.0, 0.0, 0.0]\n",
       " [0.0, 0.0, 0.0, 0.0, 0.0, 0.0, 0.0, 0.0, 0.0, 0.0  …  0.0, 0.0, 0.0, 0.0, 0.0, 0.0, 0.0, 0.0, 0.0, 0.0]\n",
       " [0.0, 0.0, 0.0, 0.0, 0.0, 0.0, 0.0, 0.0, 0.0, 0.0  …  0.0, 0.0, 0.0, 0.0, 0.0, 0.0, 0.0, 0.0, 0.0, 0.0]\n",
       " [0.0, 0.0, 0.0, 0.0, 0.0, 0.0, 0.0, 0.0, 0.0, 0.0  …  0.0, 0.0, 0.0, 0.0, 0.0, 0.0, 0.0, 0.0, 0.0, 0.0]\n",
       " [0.0, 0.0, 0.0, 0.0, 0.0, 0.0, 0.0, 0.0, 0.0, 0.0  …  0.0, 0.0, 0.0, 0.0, 0.0, 0.0, 0.0, 0.0, 0.0, 0.0]\n",
       " [0.0, 0.0, 0.0, 0.0, 0.0, 0.0, 0.0, 0.0, 0.0, 0.0  …  0.0, 0.0, 0.0, 0.0, 0.0, 0.0, 0.0, 0.0, 0.0, 0.0]\n",
       " [0.0, 0.0, 0.0, 0.0, 0.0, 0.0, 0.0, 0.0, 0.0, 0.0  …  0.0, 0.0, 0.0, 0.0, 0.0, 0.0, 0.0, 0.0, 0.0, 0.0]\n",
       " ⋮\n",
       " [0.0, 0.0, 0.0, 0.0, 0.0, 0.0, 0.0, 0.0, 0.0, 0.0  …  0.0, 0.0, 0.0, 0.0, 0.0, 0.0, 0.0, 0.0, 0.0, 0.0]\n",
       " [0.0, 0.0, 0.0, 0.0, 0.0, 0.0, 0.0, 0.0, 0.0, 0.0  …  0.0, 0.0, 0.0, 0.0, 0.0, 0.0, 0.0, 0.0, 0.0, 0.0]\n",
       " [0.0, 0.0, 0.0, 0.0, 0.0, 0.0, 0.0, 0.0, 0.0, 0.0  …  0.0, 0.0, 0.0, 0.0, 0.0, 0.0, 0.0, 0.0, 0.0, 0.0]\n",
       " [0.0, 0.0, 0.0, 0.0, 0.0, 0.0, 0.0, 0.0, 0.0, 0.0  …  0.0, 0.0, 0.0, 0.0, 0.0, 0.0, 0.0, 0.0, 0.0, 0.0]\n",
       " [0.0, 0.0, 0.0, 0.0, 0.0, 0.0, 0.0, 0.0, 0.0, 0.0  …  0.0, 0.0, 0.0, 0.0, 0.0, 0.0, 0.0, 0.0, 0.0, 0.0]\n",
       " [0.0, 0.0, 0.0, 0.0, 0.0, 0.0, 0.0, 0.0, 0.0, 0.0  …  0.0, 0.0, 0.0, 0.0, 0.0, 0.0, 0.0, 0.0, 0.0, 0.0]\n",
       " [0.0, 0.0, 0.0, 0.0, 0.0, 0.0, 0.0, 0.0, 0.0, 0.0  …  0.0, 0.0, 0.0, 0.0, 0.0, 0.0, 0.0, 0.0, 0.0, 0.0]\n",
       " [0.0, 0.0, 0.0, 0.0, 0.0, 0.0, 0.0, 0.0, 0.0, 0.0  …  0.0, 0.0, 0.0, 0.0, 0.0, 0.0, 0.0, 0.0, 0.0, 0.0]\n",
       " [0.0, 0.0, 0.0, 0.0, 0.0, 0.0, 0.0, 0.0, 0.0, 0.0  …  0.0, 0.0, 0.0, 0.0, 0.0, 0.0, 0.0, 0.0, 0.0, 0.0]\n",
       " [0.0, 0.0, 0.0, 0.0, 0.0, 0.0, 0.0, 0.0, 0.0, 0.0  …  0.0, 0.0, 0.0, 0.0, 0.0, 0.0, 0.0, 0.0, 0.0, 0.0]\n",
       " [0.0, 0.0, 0.0, 0.0, 0.0, 0.0, 0.0, 0.0, 0.0, 0.0  …  0.0, 0.0, 0.0, 0.0, 0.0, 0.0, 0.0, 0.0, 0.0, 0.0]\n",
       " [0.0, 0.0, 0.0, 0.0, 0.0, 0.0, 0.0, 0.0, 0.0, 0.0  …  0.0, 0.0, 0.0, 0.0, 0.0, 0.0, 0.0, 0.0, 0.0, 0.0]"
      ]
     },
     "execution_count": 12,
     "metadata": {},
     "output_type": "execute_result"
    }
   ],
   "source": [
    "Gp_all"
   ]
  },
  {
   "cell_type": "code",
   "execution_count": 14,
   "id": "58f57f26",
   "metadata": {
    "scrolled": false
   },
   "outputs": [
    {
     "data": {
      "text/plain": [
       "148-element Vector{Float64}:\n",
       "   0.0\n",
       "   0.0\n",
       "   0.0\n",
       "   0.0\n",
       "   0.0\n",
       "   0.0\n",
       "   0.0\n",
       "   0.0\n",
       "   0.0\n",
       "   0.0\n",
       "   0.0\n",
       " -25.0\n",
       " -49.999999999999645\n",
       "   ⋮\n",
       "   0.0\n",
       "   0.0\n",
       "   0.0\n",
       "   0.0\n",
       "   0.0\n",
       "   0.0\n",
       "   0.0\n",
       "   0.0\n",
       "   0.0\n",
       "   0.0\n",
       "   0.0\n",
       "   0.0"
      ]
     },
     "execution_count": 14,
     "metadata": {},
     "output_type": "execute_result"
    }
   ],
   "source": [
    "G_ap2"
   ]
  },
  {
   "cell_type": "code",
   "execution_count": 22,
   "id": "4b7499b0",
   "metadata": {},
   "outputs": [
    {
     "data": {
      "text/plain": [
       "148-element Vector{Float64}:\n",
       "   0.0\n",
       "   0.0\n",
       "   0.0\n",
       "   0.0\n",
       "   0.0\n",
       "   0.0\n",
       "   0.0\n",
       "   0.0\n",
       "   0.0\n",
       "   0.0\n",
       "   0.0\n",
       " -25.0\n",
       " -49.999999999999645\n",
       "   ⋮\n",
       "   0.0\n",
       "   0.0\n",
       "   0.0\n",
       "   0.0\n",
       "   0.0\n",
       "   0.0\n",
       "   0.0\n",
       "   0.0\n",
       "   0.0\n",
       "   0.0\n",
       "   0.0\n",
       "   0.0"
      ]
     },
     "execution_count": 22,
     "metadata": {},
     "output_type": "execute_result"
    }
   ],
   "source": [
    "G_ap2"
   ]
  },
  {
   "cell_type": "code",
   "execution_count": null,
   "id": "143ca566",
   "metadata": {},
   "outputs": [],
   "source": []
  }
 ],
 "metadata": {
  "kernelspec": {
   "display_name": "Julia 1.8.0",
   "language": "julia",
   "name": "julia-1.8"
  },
  "language_info": {
   "file_extension": ".jl",
   "mimetype": "application/julia",
   "name": "julia",
   "version": "1.8.0"
  }
 },
 "nbformat": 4,
 "nbformat_minor": 5
}
